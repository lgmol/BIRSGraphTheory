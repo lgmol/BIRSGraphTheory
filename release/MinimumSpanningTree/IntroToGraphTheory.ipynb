{
 "cells": [
  {
   "cell_type": "markdown",
   "id": "7817d7e8-d2e4-4e4f-a228-5114e65f8eb8",
   "metadata": {
    "deletable": false,
    "editable": false,
    "nbgrader": {
     "cell_type": "markdown",
     "checksum": "4fa7913bae113b280f8f4d2883543885",
     "grade": false,
     "grade_id": "cell-3f938454936c0079",
     "locked": true,
     "schema_version": 3,
     "solution": false,
     "task": false
    }
   },
   "source": [
    "# Introduction to Graph Theory in Sage"
   ]
  },
  {
   "cell_type": "markdown",
   "id": "870e8c3f-6447-44e2-a5d0-1ab9629ad022",
   "metadata": {
    "deletable": false,
    "editable": false,
    "nbgrader": {
     "cell_type": "markdown",
     "checksum": "999c06e9c76110e2eb2f62c92a0138ce",
     "grade": false,
     "grade_id": "cell-d964645a16cd5e42",
     "locked": true,
     "schema_version": 3,
     "solution": false,
     "task": false
    }
   },
   "source": [
    "<b>SageMath</b> is an indispensable tool for the graph theorist.  In this notebook, we will learn how to use some of the built-in functions for graphs in Sage."
   ]
  },
  {
   "cell_type": "code",
   "execution_count": null,
   "id": "1b98a3d0-5c72-492b-9f6c-75e02f4e43e6",
   "metadata": {},
   "outputs": [],
   "source": [
    "G = graphs.RandomGNP(8,0.5)  # A random graph on 8 vertices in which each edge is included with probability 0.5\n",
    "\n",
    "# Feel free to change 8 to any positive integer you like, and 0.5 to any real number in [0,1].\n",
    "\n",
    "G.show() # Display the graph G"
   ]
  },
  {
   "cell_type": "markdown",
   "id": "d4e970f4-8c13-4687-8588-ed8195d45131",
   "metadata": {
    "deletable": false,
    "editable": false,
    "nbgrader": {
     "cell_type": "markdown",
     "checksum": "c21be764a04271350a6febae01093129",
     "grade": false,
     "grade_id": "cell-d46eefdf33fd5e92",
     "locked": true,
     "schema_version": 3,
     "solution": false,
     "task": false
    }
   },
   "source": [
    "What are each of the commands below doing?  Try regenerating the random graph above and then re-running the commands below to confirm your guesses."
   ]
  },
  {
   "cell_type": "code",
   "execution_count": null,
   "id": "29879ff2-f6e3-4c72-bd76-e15d58c3e931",
   "metadata": {},
   "outputs": [],
   "source": [
    "G.order()"
   ]
  },
  {
   "cell_type": "code",
   "execution_count": null,
   "id": "e1032f7c-1727-465d-b463-9536e89fe492",
   "metadata": {},
   "outputs": [],
   "source": [
    "G.size()"
   ]
  },
  {
   "cell_type": "code",
   "execution_count": null,
   "id": "144ea933-38a9-42cc-9bc5-df3128a784f9",
   "metadata": {},
   "outputs": [],
   "source": [
    "G.vertices()"
   ]
  },
  {
   "cell_type": "code",
   "execution_count": null,
   "id": "184b05c7-2815-4ce8-b818-feceea66eceb",
   "metadata": {},
   "outputs": [],
   "source": [
    "G.edges()"
   ]
  },
  {
   "cell_type": "code",
   "execution_count": null,
   "id": "8b43d4ae-2194-4d80-868d-0009d6ae9c43",
   "metadata": {},
   "outputs": [],
   "source": [
    "G.is_connected()"
   ]
  },
  {
   "cell_type": "code",
   "execution_count": null,
   "id": "028632fe-e35e-4953-875d-edb708b9598c",
   "metadata": {},
   "outputs": [],
   "source": [
    "G.is_eulerian()"
   ]
  },
  {
   "cell_type": "code",
   "execution_count": null,
   "id": "12eb07b8-8969-4eb2-beee-55a29584db16",
   "metadata": {},
   "outputs": [],
   "source": [
    "G.eulerian_circuit()"
   ]
  },
  {
   "cell_type": "markdown",
   "id": "782f312b-71f6-43c9-a56d-ba3ead77b17e",
   "metadata": {
    "deletable": false,
    "editable": false,
    "nbgrader": {
     "cell_type": "markdown",
     "checksum": "b941ed44e25dd82438cad607f6940f13",
     "grade": false,
     "grade_id": "cell-cbd48ccdf4b2eade",
     "locked": true,
     "schema_version": 3,
     "solution": false,
     "task": false
    }
   },
   "source": [
    "### Your Turn!\n",
    "\n",
    "Write code below to determine whether or not the graph $G$ is Hamiltonian, and to find a Hamiltonian cycle in $G$, if it exists.\n",
    "\n",
    "<b>Hint:</b> Search for \"hamiltonian\" in the <a href=\"https://doc.sagemath.org/html/en/reference/graphs/sage/graphs/generic_graph.html\">SageMath documentation</a>."
   ]
  },
  {
   "cell_type": "code",
   "execution_count": null,
   "id": "72a17a24-8217-4b89-81ce-11c4cb380faf",
   "metadata": {},
   "outputs": [],
   "source": [
    "# YOUR CODE HERE - Is G Hamiltonian?"
   ]
  },
  {
   "cell_type": "code",
   "execution_count": null,
   "id": "66002c90-cd8a-4131-a58b-98752253ce80",
   "metadata": {},
   "outputs": [],
   "source": [
    "# YOUR CODE HERE - If G is Hamiltonian, identify a Hamiltonian cycle"
   ]
  },
  {
   "cell_type": "markdown",
   "id": "31ccd7ee-9696-4c0d-9a85-ada1f4d602c7",
   "metadata": {
    "deletable": false,
    "editable": false,
    "nbgrader": {
     "cell_type": "markdown",
     "checksum": "53096caba78ef4cccfd46c0c081721b9",
     "grade": false,
     "grade_id": "cell-7494e5138d2d5ea1",
     "locked": true,
     "schema_version": 3,
     "solution": false,
     "task": false
    }
   },
   "source": [
    "## Common Graphs\n",
    "\n",
    "Do you want to know something about a specific graph?  There are several ways to define a specific graph in Sage.  First of all, there are many pre-defined families of graphs (paths, cycles, complete graphs, etc.)."
   ]
  },
  {
   "cell_type": "code",
   "execution_count": null,
   "id": "b32f7cc6-4f57-4f22-8155-fdf6387ac97e",
   "metadata": {},
   "outputs": [],
   "source": [
    "P = graphs.PathGraph(4)  # A path on 4 vertices\n",
    "P.show()"
   ]
  },
  {
   "cell_type": "code",
   "execution_count": null,
   "id": "49eedbdc-1300-4093-9eff-7656664060b2",
   "metadata": {},
   "outputs": [],
   "source": [
    "C = graphs.CycleGraph(5) # A cycle on 5 vertices\n",
    "C.show()"
   ]
  },
  {
   "cell_type": "code",
   "execution_count": null,
   "id": "668c103d-0456-4038-aacd-b4a668d5f5de",
   "metadata": {},
   "outputs": [],
   "source": [
    "B = graphs.CompleteBipartiteGraph(3,4) # A complete bipartite graph with partite sets of orders 3 and 4\n",
    "B.show()"
   ]
  },
  {
   "cell_type": "code",
   "execution_count": null,
   "id": "4893ba14-c405-4a87-8f43-7c30a0ea0852",
   "metadata": {},
   "outputs": [],
   "source": [
    "S = graphs.StarGraph(5) # A star with 5 leaves (hence 6 vertices total!)\n",
    "S.show()"
   ]
  },
  {
   "cell_type": "markdown",
   "id": "57d0e57d-c0a0-42ab-be59-dc9c2fba87ba",
   "metadata": {
    "deletable": false,
    "editable": false,
    "nbgrader": {
     "cell_type": "markdown",
     "checksum": "714bb7ee60f47fe94f15a251f8973dcb",
     "grade": false,
     "grade_id": "cell-98e3a946e2d09ea3",
     "locked": true,
     "schema_version": 3,
     "solution": false,
     "task": false
    }
   },
   "source": [
    "### Your Turn\n",
    "\n",
    "Define and display a star graph on $8$ vertices. Assign this graph to the variable <code>S8</code>."
   ]
  },
  {
   "cell_type": "code",
   "execution_count": null,
   "id": "584eda62-e4af-4f4e-b50b-ed10f853b107",
   "metadata": {
    "deletable": false,
    "nbgrader": {
     "cell_type": "code",
     "checksum": "fd51acc6096e5e6ed8bd8b1d62fc027c",
     "grade": false,
     "grade_id": "cell-95a3ce16de7dba5f",
     "locked": false,
     "schema_version": 3,
     "solution": true,
     "task": false
    }
   },
   "outputs": [],
   "source": [
    "# YOUR CODE HERE"
   ]
  },
  {
   "cell_type": "markdown",
   "id": "0849d2fe-8365-46df-9a33-415b5816a8a4",
   "metadata": {
    "deletable": false,
    "editable": false,
    "nbgrader": {
     "cell_type": "markdown",
     "checksum": "1aae7d8791d7a0b4fb0b2c46d0d41f4d",
     "grade": false,
     "grade_id": "cell-d3e9fd7dd39e47d9",
     "locked": true,
     "schema_version": 3,
     "solution": false,
     "task": false
    }
   },
   "source": [
    "Does your graph <code>S8</code> have the correct number of vertices?"
   ]
  },
  {
   "cell_type": "code",
   "execution_count": null,
   "id": "b6aeef67-8e39-4965-9dbb-ae43e95034dd",
   "metadata": {
    "deletable": false,
    "editable": false,
    "nbgrader": {
     "cell_type": "code",
     "checksum": "fbbd70fee820c88ec40d10f76e138e18",
     "grade": true,
     "grade_id": "cell-f724f037a1a51476",
     "locked": true,
     "points": 1,
     "schema_version": 3,
     "solution": false,
     "task": false
    }
   },
   "outputs": [],
   "source": [
    "\"Check if S8 has 8 vertices. (1 mark)\"\n",
    "assert S8.order()==8, \"S8 should have order 8.\"\n",
    "print(\"Problem 1: Success!\")"
   ]
  },
  {
   "cell_type": "markdown",
   "id": "0a731b34-ebcb-4ec2-95c9-99a38cf603f2",
   "metadata": {
    "deletable": false,
    "editable": false,
    "nbgrader": {
     "cell_type": "markdown",
     "checksum": "86faa172d2a65528ed6bbc12656b30f5",
     "grade": false,
     "grade_id": "cell-1eb68a2074a935d5",
     "locked": true,
     "schema_version": 3,
     "solution": false,
     "task": false
    }
   },
   "source": [
    "Define and display a complete graph on $5$ vertices.  If in doubt, search for \"complete\" in the <a href=\"https://doc.sagemath.org/html/en/reference/graphs/sage/graphs/graph_generators.html\">SageMath documentation</a> for Common Graphs."
   ]
  },
  {
   "cell_type": "code",
   "execution_count": null,
   "id": "e7d5d70d-82d7-4769-8bdb-7f3d34bf2884",
   "metadata": {
    "deletable": false,
    "nbgrader": {
     "cell_type": "code",
     "checksum": "45e14b23b19f99c9e242285983baa944",
     "grade": false,
     "grade_id": "cell-2a9a0aed56257bcf",
     "locked": false,
     "schema_version": 3,
     "solution": true,
     "task": false
    }
   },
   "outputs": [],
   "source": [
    "# YOUR CODE HERE"
   ]
  },
  {
   "cell_type": "code",
   "execution_count": null,
   "id": "7b584944-7e36-4bd7-8841-7978dfec2996",
   "metadata": {
    "deletable": false,
    "editable": false,
    "nbgrader": {
     "cell_type": "code",
     "checksum": "ec27213bb290f95dda04744bf4767304",
     "grade": true,
     "grade_id": "cell-d86f8dfd2d89b6ea",
     "locked": true,
     "points": 1,
     "schema_version": 3,
     "solution": false,
     "task": false
    }
   },
   "outputs": [],
   "source": [
    "\"Check if K5 has 5 vertices and 10 edges. (1 mark)\"\n",
    "assert K5.order()==5 and K5.size()==10, \"K5 should have order 5 and size 10.\"\n",
    "print(\"Problem 2: Success!\")"
   ]
  },
  {
   "cell_type": "markdown",
   "id": "f849341f-9e06-4220-915b-25899472674f",
   "metadata": {
    "deletable": false,
    "editable": false,
    "nbgrader": {
     "cell_type": "markdown",
     "checksum": "53c7acadef563eb46825c1a0d8c032b0",
     "grade": false,
     "grade_id": "cell-057b1d812cd7a330",
     "locked": true,
     "schema_version": 3,
     "solution": false,
     "task": false
    }
   },
   "source": [
    "## Custom Graphs\n",
    "\n",
    "You can also define a graph using the <code>Graph</code> command.  You must provide a list of edges."
   ]
  },
  {
   "cell_type": "code",
   "execution_count": null,
   "id": "3e9a62e1-4a4b-4d3d-a3eb-b9544a78104e",
   "metadata": {},
   "outputs": [],
   "source": [
    "G = Graph() # Creates the null graph (with no vertices and no edges) and assigns it to the variable G\n",
    "G.add_vertices([0,1,2,3,4]) # Add the vertices in the list [1,2,3,4,5] to G\n",
    "G.add_edges([(0,1),(1,2),(2,3),(3,1)])\n",
    "G.show()"
   ]
  },
  {
   "cell_type": "markdown",
   "id": "21fc720b-8e94-4492-a0a9-6a537f4aed79",
   "metadata": {
    "deletable": false,
    "editable": false,
    "nbgrader": {
     "cell_type": "markdown",
     "checksum": "c3ac8c74936e1206f9fc13036a381330",
     "grade": false,
     "grade_id": "cell-b472d7462e5432c9",
     "locked": true,
     "schema_version": 3,
     "solution": false,
     "task": false
    }
   },
   "source": [
    "Once a graph is constructed, you can add more vertices (or edges) whenever you like.  Note that <code>add_vertex</code> and <code>add_edge</code> take as input a single vertex or edge, respectively, while <code>add_vertices</code> and <code>add_edges</code> take as input a <it>list</it> of vertices or edges, respectively."
   ]
  },
  {
   "cell_type": "code",
   "execution_count": null,
   "id": "c2ac42e2-64bd-4f47-91eb-3a0e764eeb68",
   "metadata": {},
   "outputs": [],
   "source": [
    "G.add_vertex(5)\n",
    "G.add_edges([(3,4),(2,5)])\n",
    "G.show()"
   ]
  },
  {
   "cell_type": "markdown",
   "id": "fd3d457b-8569-4370-b80a-0f2765383adc",
   "metadata": {
    "deletable": false,
    "editable": false,
    "nbgrader": {
     "cell_type": "markdown",
     "checksum": "858931b952f8b3c705f54ffd0a3ad58a",
     "grade": false,
     "grade_id": "cell-d69ead047bf9b20c",
     "locked": true,
     "schema_version": 3,
     "solution": false,
     "task": false
    }
   },
   "source": [
    "### Your Turn\n",
    "\n",
    "Construct a graph that is Eulerian but not Hamiltonian.  Assign it to the variable <code>E</code>."
   ]
  },
  {
   "cell_type": "code",
   "execution_count": null,
   "id": "0394538d-4d96-4139-8664-b29a6f48e456",
   "metadata": {
    "deletable": false,
    "nbgrader": {
     "cell_type": "code",
     "checksum": "edc14c6796933daef00364151af38b51",
     "grade": false,
     "grade_id": "cell-89d30a43669b338c",
     "locked": false,
     "schema_version": 3,
     "solution": true,
     "task": false
    }
   },
   "outputs": [],
   "source": [
    "# YOUR CODE HERE"
   ]
  },
  {
   "cell_type": "code",
   "execution_count": null,
   "id": "4fa97c56-cd08-4cf4-9b9c-39f8bbeee3e2",
   "metadata": {
    "deletable": false,
    "editable": false,
    "nbgrader": {
     "cell_type": "code",
     "checksum": "67c48c8fa198a7e44b442c3924a6e416",
     "grade": true,
     "grade_id": "cell-a1ec50fce8120213",
     "locked": true,
     "points": 1,
     "schema_version": 3,
     "solution": false,
     "task": false
    }
   },
   "outputs": [],
   "source": [
    "\"Check if E is Eulerian. (1 mark)\"\n",
    "assert E.is_eulerian(), \"E should be Eulerian.\"\n",
    "print(\"Problem 3 Part 1: Success!\")"
   ]
  },
  {
   "cell_type": "code",
   "execution_count": null,
   "id": "ba388c47-29ce-4199-bf8a-bd8f6b4b4442",
   "metadata": {
    "deletable": false,
    "editable": false,
    "nbgrader": {
     "cell_type": "code",
     "checksum": "25502fd1298789e14ce550c18511274e",
     "grade": true,
     "grade_id": "cell-3cb74d721619517b",
     "locked": true,
     "points": 1,
     "schema_version": 3,
     "solution": false,
     "task": false
    }
   },
   "outputs": [],
   "source": [
    "\"Check if E is Hamiltonian. (1 mark)\"\n",
    "assert not E.is_hamiltonian(), \"E should NOT be Hamiltonian.\"\n",
    "print(\"Problem 3 Part 2: Success!\")"
   ]
  },
  {
   "cell_type": "markdown",
   "id": "2861ad90-2405-4c89-b147-98a3ac0678e0",
   "metadata": {
    "deletable": false,
    "editable": false,
    "nbgrader": {
     "cell_type": "markdown",
     "checksum": "b5fb7fef7584a83f22e91736ba6a1e09",
     "grade": false,
     "grade_id": "cell-5bc5f4cd93a762ec",
     "locked": true,
     "schema_version": 3,
     "solution": false,
     "task": false
    }
   },
   "source": [
    "Construct a graph that is Hamiltonian but not Eulerian.  Assign it to the variable <code>H</code>."
   ]
  },
  {
   "cell_type": "code",
   "execution_count": null,
   "id": "107d03b6-756c-460f-b99c-33929284941a",
   "metadata": {
    "deletable": false,
    "nbgrader": {
     "cell_type": "code",
     "checksum": "f9f895056dc444b78d2648781790cd4e",
     "grade": false,
     "grade_id": "cell-e8083fdba6e08517",
     "locked": false,
     "schema_version": 3,
     "solution": true,
     "task": false
    }
   },
   "outputs": [],
   "source": [
    "# YOUR CODE HERE"
   ]
  },
  {
   "cell_type": "code",
   "execution_count": null,
   "id": "69bafd34-1b97-4953-a126-80e00a358f84",
   "metadata": {
    "deletable": false,
    "editable": false,
    "nbgrader": {
     "cell_type": "code",
     "checksum": "daa08eb1a8c6e74d358584ab0df07af9",
     "grade": true,
     "grade_id": "cell-df92a344af3c129d",
     "locked": true,
     "points": 1,
     "schema_version": 3,
     "solution": false,
     "task": false
    }
   },
   "outputs": [],
   "source": [
    "\"Check if H is Eulerian. (1 mark)\"\n",
    "assert not H.is_eulerian(), \"H should NOT be Eulerian.\"\n",
    "print(\"Problem 4 Part 1: Success!\")"
   ]
  },
  {
   "cell_type": "code",
   "execution_count": null,
   "id": "c7ff69a4-46dd-41ae-aa43-147afb265fa1",
   "metadata": {
    "deletable": false,
    "editable": false,
    "nbgrader": {
     "cell_type": "code",
     "checksum": "57aaf9a62b7317d9717175a86541d7e9",
     "grade": true,
     "grade_id": "cell-a3dd26b0a3b2d871",
     "locked": true,
     "points": 1,
     "schema_version": 3,
     "solution": false,
     "task": false
    }
   },
   "outputs": [],
   "source": [
    "\"Check if H is Hamiltonian. (1 mark)\"\n",
    "assert H.is_hamiltonian(), \"H should be Hamiltonian.\"\n",
    "print(\"Problem 4 Part 2: Success!\")"
   ]
  }
 ],
 "metadata": {
  "kernelspec": {
   "display_name": "SageMath 10.5",
   "language": "sage",
   "name": "sagemath"
  },
  "language_info": {
   "codemirror_mode": {
    "name": "ipython",
    "version": 3
   },
   "file_extension": ".py",
   "mimetype": "text/x-python",
   "name": "python",
   "nbconvert_exporter": "python",
   "pygments_lexer": "ipython3",
   "version": "3.10.17"
  }
 },
 "nbformat": 4,
 "nbformat_minor": 5
}
